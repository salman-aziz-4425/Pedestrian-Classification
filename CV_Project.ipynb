{
  "cells": [
    {
      "cell_type": "markdown",
      "metadata": {
        "id": "view-in-github",
        "colab_type": "text"
      },
      "source": [
        "<a href=\"https://colab.research.google.com/github/salman-aziz-4425/Pedestrian-Classification/blob/main/CV_Project.ipynb\" target=\"_parent\"><img src=\"https://colab.research.google.com/assets/colab-badge.svg\" alt=\"Open In Colab\"/></a>"
      ]
    },
    {
      "cell_type": "code",
      "execution_count": null,
      "metadata": {
        "id": "K7z4JAhP-KUk"
      },
      "outputs": [],
      "source": [
        "\n",
        "import numpy as np\n",
        "import cv2\n",
        "import os\n",
        "from skimage.feature import local_binary_pattern\n",
        "from sklearn.svm import SVC\n",
        "from sklearn.multiclass import OneVsOneClassifier, OneVsRestClassifier\n",
        "from sklearn.decomposition import PCA\n",
        "from tensorflow.keras.applications.inception_v3 import InceptionV3, preprocess_input\n",
        "import torch\n",
        "import torchvision.models as models\n",
        "from PIL import Image\n",
        "import torchvision.transforms as transforms\n",
        "import torch.nn as nn\n",
        "from google.colab.patches import cv2_imshow"
      ]
    },
    {
      "cell_type": "markdown",
      "source": [
        "Loading pretrained models"
      ],
      "metadata": {
        "id": "Cnk9d3bILWME"
      }
    },
    {
      "cell_type": "code",
      "execution_count": null,
      "metadata": {
        "id": "hWSYLdEq-PDe"
      },
      "outputs": [],
      "source": [
        "# Load the pre-trained models\n",
        "modeltf = InceptionV3(weights='imagenet', include_top=False)\n",
        "modelpt = models.squeezenet1_0(pretrained=True)"
      ]
    },
    {
      "cell_type": "markdown",
      "source": [
        "Loading dataset"
      ],
      "metadata": {
        "id": "HsWG7VAFLbzw"
      }
    },
    {
      "cell_type": "code",
      "execution_count": null,
      "metadata": {
        "colab": {
          "base_uri": "https://localhost:8080/"
        },
        "id": "UAQGnKpP-fsU",
        "outputId": "e72e9dbb-a0d7-4b05-e563-4c234c75b036"
      },
      "outputs": [
        {
          "output_type": "stream",
          "name": "stdout",
          "text": [
            "Found 963 files belonging to 8 classes.\n",
            "Using 771 files for training.\n",
            "Found 963 files belonging to 8 classes.\n",
            "Using 192 files for validation.\n",
            "Class names: ['0', '135', '180', '225', '270', '315', '45', '90']\n"
          ]
        }
      ],
      "source": [
        "import tensorflow as tf\n",
        "\n",
        "batch_size = 1\n",
        "img_size = (229, 229)\n",
        "data_dir = \"/content/drive/MyDrive/Dataset\"\n",
        "\n",
        "# Create the training dataset\n",
        "dataset = tf.keras.preprocessing.image_dataset_from_directory(\n",
        "    data_dir,\n",
        "    validation_split=0.2,\n",
        "    subset=\"training\",\n",
        "    seed=123,\n",
        "    image_size=img_size,\n",
        "    batch_size=batch_size,\n",
        "    shuffle=True,\n",
        ")\n",
        "\n",
        "# Create the validation dataset\n",
        "test_dataset = tf.keras.preprocessing.image_dataset_from_directory(\n",
        "    data_dir,\n",
        "    validation_split=0.2,\n",
        "    subset=\"validation\",\n",
        "    seed=123,\n",
        "    image_size=img_size,\n",
        "    batch_size=batch_size,\n",
        "    shuffle=True,\n",
        ")\n",
        "\n",
        "class_names = dataset.class_names\n",
        "print(\"Class names:\", class_names)"
      ]
    },
    {
      "cell_type": "code",
      "source": [
        "len(test_dataset )"
      ],
      "metadata": {
        "colab": {
          "base_uri": "https://localhost:8080/"
        },
        "id": "hEOXukdnCil6",
        "outputId": "be9e5d1f-27b8-4de3-cc8a-2f3dbe2c2b49"
      },
      "execution_count": null,
      "outputs": [
        {
          "output_type": "execute_result",
          "data": {
            "text/plain": [
              "192"
            ]
          },
          "metadata": {},
          "execution_count": 19
        }
      ]
    },
    {
      "cell_type": "markdown",
      "source": [
        "Phog"
      ],
      "metadata": {
        "id": "46UYe_p6fxJw"
      }
    },
    {
      "cell_type": "code",
      "source": [
        "def phog(image):\n",
        " gray = cv2.cvtColor(image, cv2.COLOR_BGR2GRAY)\n",
        " bins = 8  # Number of orientation bins\n",
        " levels = 3  # Number of pyramid levels\n",
        " hist = cv2.calcHist([gray], [0], None, [bins], [0, 256])\n",
        " hist /= np.sum(hist)  # Normalize the histogram\n",
        " return hist"
      ],
      "metadata": {
        "id": "qx8CyvEqbuKZ"
      },
      "execution_count": null,
      "outputs": []
    },
    {
      "cell_type": "markdown",
      "source": [
        "LEP"
      ],
      "metadata": {
        "id": "988u03had7X6"
      }
    },
    {
      "cell_type": "code",
      "source": [
        "def lep_lbp(image, radius, points):\n",
        "    gray = cv2.cvtColor(image, cv2.COLOR_BGR2GRAY)\n",
        "    features = []\n",
        "    for y in range(radius, gray.shape[0] - radius):\n",
        "        for x in range(radius, gray.shape[1] - radius):\n",
        "            center = gray[y, x]\n",
        "            energy = np.sum((gray[y-radius:y+radius+1, x-radius:x+radius+1] - center) ** 2)\n",
        "            pattern = 0\n",
        "            for i, (dx, dy) in enumerate(zip(np.cos(np.linspace(0, 2*np.pi, points)), np.sin(np.linspace(0, 2*np.pi, points)))):\n",
        "                nx, ny = int(x + radius * dx), int(y + radius * dy)\n",
        "                if gray[ny, nx] >= center:\n",
        "                    pattern += 1 << i\n",
        "            features.append((pattern, energy))\n",
        "\n",
        "    return features.flatten()"
      ],
      "metadata": {
        "id": "TVZljDy2d6u9"
      },
      "execution_count": null,
      "outputs": []
    },
    {
      "cell_type": "markdown",
      "source": [
        "Feature Extraction and Max Features,Low Features"
      ],
      "metadata": {
        "id": "Whus6UNMr-l2"
      }
    },
    {
      "cell_type": "code",
      "source": [
        "LBP_RADIUS = 1\n",
        "LBP_POINTS = 8 * LBP_RADIUS\n",
        "histRange = (0, 256)\n",
        "histSize=256\n",
        "accumulate = False\n",
        "def LowLevelFeatures(image):\n",
        "       phog =phog(image)\n",
        "       b_hist = cv2.calcHist(bgr_planes, [0], None,[histSize], histRange, accumulate=accumulate)\n",
        "       g_hist=cv2.calcHist(bgr_planes,[1],None,[histSize],histRange, accumulate=accumulate)\n",
        "       r_hist = cv2.calcHist(bgr_planes, [2], None,[histSize], histRange, accumulate=accumulate)\n",
        "       chf = np.concatenate((b_hist, g_hist, r_hist)).flatten()\n",
        "       Lep=lep_lbp(image,2,4)\n",
        "       return phog,chf,Lep"
      ],
      "metadata": {
        "id": "LQmwUQLs-55y"
      },
      "execution_count": null,
      "outputs": []
    },
    {
      "cell_type": "code",
      "source": [
        "googlenetfeatures= []\n",
        "sequeezenetFeatures=[]\n",
        "featuresCombined=[]\n",
        "Y = []\n",
        "maxpool = nn.MaxPool2d(kernel_size=2, stride=2, padding=0, dilation=1)\n",
        "for images, labels in dataset:\n",
        "    threeD = np.squeeze(images, axis=0)\n",
        "    phog,chf,lep= LowLevelFeatures(threeD)\n",
        "    images = images / 255.0\n",
        "    tf_features = modeltf.predict(images)\n",
        "    img = np.transpose(images, (0, 3, 1, 2))\n",
        "    pt_img = np.array(img)\n",
        "    pt_img = torch.FloatTensor(pt_img)\n",
        "    with torch.no_grad():\n",
        "      pt_features = modelpt.features(pt_img).numpy()\n",
        "    pooled_feature_map = maxpool(torch.from_numpy(tf_features))\n",
        "    pooled_feature_map2=maxpool(torch.from_numpy(pt_features))\n",
        "    phog=torch.from_numpy(phog)\n",
        "    chf=torch.from_numpy(chf)\n",
        "    Lep=torch.from_numpy(Lep)\n",
        "    featuresCombined.append(np.concatenate([ np.array(pooled_feature_map ).flatten(), np.array(pooled_feature_map2).flatten(),\n",
        "      np.array(phog).flatten(),np.array(chf).flatten().np.array(Lep).flatten()]))\n",
        "    Y.append(labels)\n",
        "Y = tf.concat(Y, axis=0)"
      ],
      "metadata": {
        "id": "KOLxPQ6B6HmI"
      },
      "execution_count": null,
      "outputs": []
    },
    {
      "cell_type": "code",
      "source": [
        "np.array(featuresCombined).shape"
      ],
      "metadata": {
        "colab": {
          "base_uri": "https://localhost:8080/"
        },
        "id": "hoP6p0H6CbSB",
        "outputId": "a0a1f59e-216d-4ca9-b96d-cc543995b6f4"
      },
      "execution_count": null,
      "outputs": [
        {
          "output_type": "execute_result",
          "data": {
            "text/plain": [
              "(771, 136704)"
            ]
          },
          "metadata": {},
          "execution_count": 30
        }
      ]
    },
    {
      "cell_type": "markdown",
      "source": [
        "Test dataset"
      ],
      "metadata": {
        "id": "DmOsfN3exS9q"
      }
    },
    {
      "cell_type": "code",
      "source": [
        "testgooglenetfeatures= []\n",
        "testsequeezenetFeatures=[]\n",
        "featuresCombinedtest=[]\n",
        "Ytest = []\n",
        "maxpool = nn.MaxPool2d(kernel_size=2, stride=2, padding=0, dilation=1)\n",
        "for images, labels in val_dataset:\n",
        "    threeD = np.squeeze(images, axis=0)\n",
        "    phog,chf= LowLevelFeatures(threeD)\n",
        "    images = images / 255.0\n",
        "    tf_features = modeltf.predict(images)\n",
        "    img = np.transpose(images, (0, 3, 1, 2))\n",
        "    pt_img = np.array(img)\n",
        "    pt_img = torch.FloatTensor(pt_img)\n",
        "    with torch.no_grad():\n",
        "      pt_features = modelpt.features(pt_img).numpy()\n",
        "    pooled_feature_map = maxpool(torch.from_numpy(tf_features))\n",
        "    pooled_feature_map2=maxpool(torch.from_numpy(pt_features))\n",
        "    phog=torch.from_numpy(pt_features)\n",
        "    chf=torch.from_numpy(chf)\n",
        "    featuresCombinedtest.append(np.concatenate([ np.array(pooled_feature_map ).flatten(), np.array(pooled_feature_map2).flatten(),\n",
        "      np.array(phog).flatten(),np.array(chf).flatten().flatten()]))\n",
        "    Ytest.append(labels)\n",
        "Ytest = tf.concat(Ytest, axis=0)"
      ],
      "metadata": {
        "id": "IyYeV30dscXb",
        "colab": {
          "base_uri": "https://localhost:8080/"
        },
        "outputId": "1f8c315e-805f-471d-b034-441aff197fe4"
      },
      "execution_count": null,
      "outputs": [
        {
          "output_type": "stream",
          "name": "stdout",
          "text": [
            "1/1 [==============================] - 0s 26ms/step\n",
            "1/1 [==============================] - 0s 26ms/step\n",
            "1/1 [==============================] - 0s 25ms/step\n",
            "1/1 [==============================] - 0s 26ms/step\n",
            "1/1 [==============================] - 0s 29ms/step\n",
            "1/1 [==============================] - 0s 24ms/step\n",
            "1/1 [==============================] - 0s 25ms/step\n",
            "1/1 [==============================] - 0s 28ms/step\n",
            "1/1 [==============================] - 0s 47ms/step\n",
            "1/1 [==============================] - 0s 39ms/step\n",
            "1/1 [==============================] - 0s 45ms/step\n",
            "1/1 [==============================] - 0s 39ms/step\n",
            "1/1 [==============================] - 0s 40ms/step\n",
            "1/1 [==============================] - 0s 42ms/step\n",
            "1/1 [==============================] - 0s 37ms/step\n",
            "1/1 [==============================] - 0s 27ms/step\n",
            "1/1 [==============================] - 0s 30ms/step\n",
            "1/1 [==============================] - 0s 26ms/step\n",
            "1/1 [==============================] - 0s 28ms/step\n",
            "1/1 [==============================] - 0s 25ms/step\n",
            "1/1 [==============================] - 0s 25ms/step\n",
            "1/1 [==============================] - 0s 25ms/step\n",
            "1/1 [==============================] - 0s 24ms/step\n",
            "1/1 [==============================] - 0s 27ms/step\n",
            "1/1 [==============================] - 0s 25ms/step\n",
            "1/1 [==============================] - 0s 32ms/step\n",
            "1/1 [==============================] - 0s 25ms/step\n",
            "1/1 [==============================] - 0s 26ms/step\n",
            "1/1 [==============================] - 0s 25ms/step\n",
            "1/1 [==============================] - 0s 27ms/step\n",
            "1/1 [==============================] - 0s 26ms/step\n",
            "1/1 [==============================] - 0s 24ms/step\n",
            "1/1 [==============================] - 0s 30ms/step\n",
            "1/1 [==============================] - 0s 29ms/step\n",
            "1/1 [==============================] - 0s 29ms/step\n",
            "1/1 [==============================] - 0s 29ms/step\n",
            "1/1 [==============================] - 0s 27ms/step\n",
            "1/1 [==============================] - 0s 27ms/step\n",
            "1/1 [==============================] - 0s 30ms/step\n",
            "1/1 [==============================] - 0s 25ms/step\n",
            "1/1 [==============================] - 0s 40ms/step\n",
            "1/1 [==============================] - 0s 44ms/step\n",
            "1/1 [==============================] - 0s 36ms/step\n",
            "1/1 [==============================] - 0s 38ms/step\n",
            "1/1 [==============================] - 0s 37ms/step\n",
            "1/1 [==============================] - 0s 38ms/step\n",
            "1/1 [==============================] - 0s 38ms/step\n",
            "1/1 [==============================] - 0s 38ms/step\n",
            "1/1 [==============================] - 0s 28ms/step\n",
            "1/1 [==============================] - 0s 30ms/step\n",
            "1/1 [==============================] - 0s 25ms/step\n",
            "1/1 [==============================] - 0s 25ms/step\n",
            "1/1 [==============================] - 0s 32ms/step\n",
            "1/1 [==============================] - 0s 27ms/step\n",
            "1/1 [==============================] - 0s 25ms/step\n",
            "1/1 [==============================] - 0s 28ms/step\n",
            "1/1 [==============================] - 0s 24ms/step\n",
            "1/1 [==============================] - 0s 26ms/step\n",
            "1/1 [==============================] - 0s 29ms/step\n",
            "1/1 [==============================] - 0s 25ms/step\n",
            "1/1 [==============================] - 0s 26ms/step\n",
            "1/1 [==============================] - 0s 26ms/step\n",
            "1/1 [==============================] - 0s 26ms/step\n",
            "1/1 [==============================] - 0s 26ms/step\n",
            "1/1 [==============================] - 0s 26ms/step\n",
            "1/1 [==============================] - 0s 38ms/step\n",
            "1/1 [==============================] - 0s 26ms/step\n",
            "1/1 [==============================] - 0s 26ms/step\n",
            "1/1 [==============================] - 0s 26ms/step\n",
            "1/1 [==============================] - 0s 26ms/step\n",
            "1/1 [==============================] - 0s 30ms/step\n",
            "1/1 [==============================] - 0s 26ms/step\n",
            "1/1 [==============================] - 0s 24ms/step\n",
            "1/1 [==============================] - 0s 24ms/step\n",
            "1/1 [==============================] - 0s 42ms/step\n",
            "1/1 [==============================] - 0s 41ms/step\n",
            "1/1 [==============================] - 0s 39ms/step\n",
            "1/1 [==============================] - 0s 37ms/step\n",
            "1/1 [==============================] - 0s 41ms/step\n",
            "1/1 [==============================] - 0s 46ms/step\n",
            "1/1 [==============================] - 0s 38ms/step\n",
            "1/1 [==============================] - 0s 44ms/step\n",
            "1/1 [==============================] - 0s 27ms/step\n",
            "1/1 [==============================] - 0s 25ms/step\n",
            "1/1 [==============================] - 0s 25ms/step\n",
            "1/1 [==============================] - 0s 26ms/step\n",
            "1/1 [==============================] - 0s 27ms/step\n",
            "1/1 [==============================] - 0s 26ms/step\n",
            "1/1 [==============================] - 0s 25ms/step\n",
            "1/1 [==============================] - 0s 26ms/step\n",
            "1/1 [==============================] - 0s 26ms/step\n",
            "1/1 [==============================] - 0s 25ms/step\n",
            "1/1 [==============================] - 0s 27ms/step\n",
            "1/1 [==============================] - 0s 27ms/step\n",
            "1/1 [==============================] - 0s 27ms/step\n",
            "1/1 [==============================] - 0s 26ms/step\n",
            "1/1 [==============================] - 0s 26ms/step\n",
            "1/1 [==============================] - 0s 32ms/step\n",
            "1/1 [==============================] - 0s 25ms/step\n",
            "1/1 [==============================] - 0s 26ms/step\n",
            "1/1 [==============================] - 0s 29ms/step\n",
            "1/1 [==============================] - 0s 28ms/step\n",
            "1/1 [==============================] - 0s 26ms/step\n",
            "1/1 [==============================] - 0s 25ms/step\n",
            "1/1 [==============================] - 0s 24ms/step\n",
            "1/1 [==============================] - 0s 25ms/step\n",
            "1/1 [==============================] - 0s 25ms/step\n",
            "1/1 [==============================] - 0s 26ms/step\n",
            "1/1 [==============================] - 0s 27ms/step\n",
            "1/1 [==============================] - 0s 42ms/step\n",
            "1/1 [==============================] - 0s 51ms/step\n",
            "1/1 [==============================] - 0s 43ms/step\n",
            "1/1 [==============================] - 0s 38ms/step\n",
            "1/1 [==============================] - 0s 45ms/step\n",
            "1/1 [==============================] - 0s 40ms/step\n",
            "1/1 [==============================] - 0s 43ms/step\n",
            "1/1 [==============================] - 0s 29ms/step\n",
            "1/1 [==============================] - 0s 26ms/step\n",
            "1/1 [==============================] - 0s 25ms/step\n",
            "1/1 [==============================] - 0s 24ms/step\n",
            "1/1 [==============================] - 0s 26ms/step\n",
            "1/1 [==============================] - 0s 25ms/step\n",
            "1/1 [==============================] - 0s 25ms/step\n",
            "1/1 [==============================] - 0s 29ms/step\n",
            "1/1 [==============================] - 0s 31ms/step\n",
            "1/1 [==============================] - 0s 24ms/step\n",
            "1/1 [==============================] - 0s 25ms/step\n",
            "1/1 [==============================] - 0s 25ms/step\n",
            "1/1 [==============================] - 0s 25ms/step\n",
            "1/1 [==============================] - 0s 26ms/step\n",
            "1/1 [==============================] - 0s 26ms/step\n",
            "1/1 [==============================] - 0s 30ms/step\n",
            "1/1 [==============================] - 0s 25ms/step\n",
            "1/1 [==============================] - 0s 25ms/step\n",
            "1/1 [==============================] - 0s 25ms/step\n",
            "1/1 [==============================] - 0s 24ms/step\n",
            "1/1 [==============================] - 0s 24ms/step\n",
            "1/1 [==============================] - 0s 26ms/step\n",
            "1/1 [==============================] - 0s 23ms/step\n",
            "1/1 [==============================] - 0s 26ms/step\n",
            "1/1 [==============================] - 0s 25ms/step\n",
            "1/1 [==============================] - 0s 26ms/step\n",
            "1/1 [==============================] - 0s 26ms/step\n",
            "1/1 [==============================] - 0s 24ms/step\n",
            "1/1 [==============================] - 0s 56ms/step\n",
            "1/1 [==============================] - 0s 41ms/step\n",
            "1/1 [==============================] - 0s 39ms/step\n",
            "1/1 [==============================] - 0s 40ms/step\n",
            "1/1 [==============================] - 0s 41ms/step\n",
            "1/1 [==============================] - 0s 60ms/step\n",
            "1/1 [==============================] - 0s 27ms/step\n",
            "1/1 [==============================] - 0s 26ms/step\n",
            "1/1 [==============================] - 0s 24ms/step\n",
            "1/1 [==============================] - 0s 29ms/step\n",
            "1/1 [==============================] - 0s 24ms/step\n",
            "1/1 [==============================] - 0s 25ms/step\n",
            "1/1 [==============================] - 0s 25ms/step\n",
            "1/1 [==============================] - 0s 26ms/step\n",
            "1/1 [==============================] - 0s 26ms/step\n",
            "1/1 [==============================] - 0s 27ms/step\n",
            "1/1 [==============================] - 0s 25ms/step\n",
            "1/1 [==============================] - 0s 24ms/step\n",
            "1/1 [==============================] - 0s 26ms/step\n",
            "1/1 [==============================] - 0s 25ms/step\n",
            "1/1 [==============================] - 0s 24ms/step\n",
            "1/1 [==============================] - 0s 26ms/step\n",
            "1/1 [==============================] - 0s 31ms/step\n",
            "1/1 [==============================] - 0s 30ms/step\n",
            "1/1 [==============================] - 0s 27ms/step\n",
            "1/1 [==============================] - 0s 27ms/step\n",
            "1/1 [==============================] - 0s 29ms/step\n"
          ]
        }
      ]
    },
    {
      "cell_type": "markdown",
      "source": [
        "Deep fusion test dataset"
      ],
      "metadata": {
        "id": "4AQaPTt3xYFH"
      }
    },
    {
      "cell_type": "markdown",
      "source": [
        "Applying PCA"
      ],
      "metadata": {
        "id": "a1EJValzGst6"
      }
    },
    {
      "cell_type": "code",
      "source": [
        "pca = PCA(n_components=1)\n",
        "featuresCombined = pca.fit_transform(featuresCombined)"
      ],
      "metadata": {
        "id": "sqLq4moAGKK9"
      },
      "execution_count": null,
      "outputs": []
    },
    {
      "cell_type": "markdown",
      "source": [
        "Deep fusion training dataset\n"
      ],
      "metadata": {
        "id": "_AcFQvXpr7A6"
      }
    },
    {
      "cell_type": "code",
      "source": [
        "np.array(featuresCombinedtest).shape"
      ],
      "metadata": {
        "colab": {
          "base_uri": "https://localhost:8080/"
        },
        "id": "dHlw-4Mcsn9X",
        "outputId": "c608079e-feeb-471a-91d9-623888ff6ab2"
      },
      "execution_count": null,
      "outputs": [
        {
          "output_type": "execute_result",
          "data": {
            "text/plain": [
              "(192, 136704)"
            ]
          },
          "metadata": {},
          "execution_count": 24
        }
      ]
    },
    {
      "cell_type": "markdown",
      "source": [
        "SVM multli classifier"
      ],
      "metadata": {
        "id": "oL03w21NEl2d"
      }
    },
    {
      "cell_type": "code",
      "source": [
        "svm_model = SVC(kernel='rbf')\n",
        "ovr_classifier = OneVsRestClassifier(svm_model)\n",
        "ovr_classifier.fit(np.array(featuresCombined),Y)"
      ],
      "metadata": {
        "id": "7WRV3kGtGJeR",
        "colab": {
          "base_uri": "https://localhost:8080/",
          "height": 118
        },
        "outputId": "68e941ee-0c2b-4373-aad6-789642c6e2a4"
      },
      "execution_count": null,
      "outputs": [
        {
          "output_type": "execute_result",
          "data": {
            "text/plain": [
              "OneVsRestClassifier(estimator=SVC())"
            ],
            "text/html": [
              "<style>#sk-container-id-2 {color: black;background-color: white;}#sk-container-id-2 pre{padding: 0;}#sk-container-id-2 div.sk-toggleable {background-color: white;}#sk-container-id-2 label.sk-toggleable__label {cursor: pointer;display: block;width: 100%;margin-bottom: 0;padding: 0.3em;box-sizing: border-box;text-align: center;}#sk-container-id-2 label.sk-toggleable__label-arrow:before {content: \"▸\";float: left;margin-right: 0.25em;color: #696969;}#sk-container-id-2 label.sk-toggleable__label-arrow:hover:before {color: black;}#sk-container-id-2 div.sk-estimator:hover label.sk-toggleable__label-arrow:before {color: black;}#sk-container-id-2 div.sk-toggleable__content {max-height: 0;max-width: 0;overflow: hidden;text-align: left;background-color: #f0f8ff;}#sk-container-id-2 div.sk-toggleable__content pre {margin: 0.2em;color: black;border-radius: 0.25em;background-color: #f0f8ff;}#sk-container-id-2 input.sk-toggleable__control:checked~div.sk-toggleable__content {max-height: 200px;max-width: 100%;overflow: auto;}#sk-container-id-2 input.sk-toggleable__control:checked~label.sk-toggleable__label-arrow:before {content: \"▾\";}#sk-container-id-2 div.sk-estimator input.sk-toggleable__control:checked~label.sk-toggleable__label {background-color: #d4ebff;}#sk-container-id-2 div.sk-label input.sk-toggleable__control:checked~label.sk-toggleable__label {background-color: #d4ebff;}#sk-container-id-2 input.sk-hidden--visually {border: 0;clip: rect(1px 1px 1px 1px);clip: rect(1px, 1px, 1px, 1px);height: 1px;margin: -1px;overflow: hidden;padding: 0;position: absolute;width: 1px;}#sk-container-id-2 div.sk-estimator {font-family: monospace;background-color: #f0f8ff;border: 1px dotted black;border-radius: 0.25em;box-sizing: border-box;margin-bottom: 0.5em;}#sk-container-id-2 div.sk-estimator:hover {background-color: #d4ebff;}#sk-container-id-2 div.sk-parallel-item::after {content: \"\";width: 100%;border-bottom: 1px solid gray;flex-grow: 1;}#sk-container-id-2 div.sk-label:hover label.sk-toggleable__label {background-color: #d4ebff;}#sk-container-id-2 div.sk-serial::before {content: \"\";position: absolute;border-left: 1px solid gray;box-sizing: border-box;top: 0;bottom: 0;left: 50%;z-index: 0;}#sk-container-id-2 div.sk-serial {display: flex;flex-direction: column;align-items: center;background-color: white;padding-right: 0.2em;padding-left: 0.2em;position: relative;}#sk-container-id-2 div.sk-item {position: relative;z-index: 1;}#sk-container-id-2 div.sk-parallel {display: flex;align-items: stretch;justify-content: center;background-color: white;position: relative;}#sk-container-id-2 div.sk-item::before, #sk-container-id-2 div.sk-parallel-item::before {content: \"\";position: absolute;border-left: 1px solid gray;box-sizing: border-box;top: 0;bottom: 0;left: 50%;z-index: -1;}#sk-container-id-2 div.sk-parallel-item {display: flex;flex-direction: column;z-index: 1;position: relative;background-color: white;}#sk-container-id-2 div.sk-parallel-item:first-child::after {align-self: flex-end;width: 50%;}#sk-container-id-2 div.sk-parallel-item:last-child::after {align-self: flex-start;width: 50%;}#sk-container-id-2 div.sk-parallel-item:only-child::after {width: 0;}#sk-container-id-2 div.sk-dashed-wrapped {border: 1px dashed gray;margin: 0 0.4em 0.5em 0.4em;box-sizing: border-box;padding-bottom: 0.4em;background-color: white;}#sk-container-id-2 div.sk-label label {font-family: monospace;font-weight: bold;display: inline-block;line-height: 1.2em;}#sk-container-id-2 div.sk-label-container {text-align: center;}#sk-container-id-2 div.sk-container {/* jupyter's `normalize.less` sets `[hidden] { display: none; }` but bootstrap.min.css set `[hidden] { display: none !important; }` so we also need the `!important` here to be able to override the default hidden behavior on the sphinx rendered scikit-learn.org. See: https://github.com/scikit-learn/scikit-learn/issues/21755 */display: inline-block !important;position: relative;}#sk-container-id-2 div.sk-text-repr-fallback {display: none;}</style><div id=\"sk-container-id-2\" class=\"sk-top-container\"><div class=\"sk-text-repr-fallback\"><pre>OneVsRestClassifier(estimator=SVC())</pre><b>In a Jupyter environment, please rerun this cell to show the HTML representation or trust the notebook. <br />On GitHub, the HTML representation is unable to render, please try loading this page with nbviewer.org.</b></div><div class=\"sk-container\" hidden><div class=\"sk-item sk-dashed-wrapped\"><div class=\"sk-label-container\"><div class=\"sk-label sk-toggleable\"><input class=\"sk-toggleable__control sk-hidden--visually\" id=\"sk-estimator-id-4\" type=\"checkbox\" ><label for=\"sk-estimator-id-4\" class=\"sk-toggleable__label sk-toggleable__label-arrow\">OneVsRestClassifier</label><div class=\"sk-toggleable__content\"><pre>OneVsRestClassifier(estimator=SVC())</pre></div></div></div><div class=\"sk-parallel\"><div class=\"sk-parallel-item\"><div class=\"sk-item\"><div class=\"sk-label-container\"><div class=\"sk-label sk-toggleable\"><input class=\"sk-toggleable__control sk-hidden--visually\" id=\"sk-estimator-id-5\" type=\"checkbox\" ><label for=\"sk-estimator-id-5\" class=\"sk-toggleable__label sk-toggleable__label-arrow\">estimator: SVC</label><div class=\"sk-toggleable__content\"><pre>SVC()</pre></div></div></div><div class=\"sk-serial\"><div class=\"sk-item\"><div class=\"sk-estimator sk-toggleable\"><input class=\"sk-toggleable__control sk-hidden--visually\" id=\"sk-estimator-id-6\" type=\"checkbox\" ><label for=\"sk-estimator-id-6\" class=\"sk-toggleable__label sk-toggleable__label-arrow\">SVC</label><div class=\"sk-toggleable__content\"><pre>SVC()</pre></div></div></div></div></div></div></div></div></div></div>"
            ]
          },
          "metadata": {},
          "execution_count": 32
        }
      ]
    },
    {
      "cell_type": "markdown",
      "source": [
        "Saving model"
      ],
      "metadata": {
        "id": "FsyuUiUcLskY"
      }
    },
    {
      "cell_type": "markdown",
      "source": [
        "Accuracy"
      ],
      "metadata": {
        "id": "d0kDxNb1Ef0m"
      }
    },
    {
      "cell_type": "markdown",
      "source": [
        "Accuracy with both high and low level features accuracy is low because of image quality and low and high features red\n",
        "andancy"
      ],
      "metadata": {
        "id": "T9GMf5hnORpi"
      }
    },
    {
      "cell_type": "code",
      "source": [
        "accuracy =ovr_classifier.score(np.array(featuresCombinedtest),Ytest)\n",
        "print(\"Accuracy:\", accuracy)"
      ],
      "metadata": {
        "id": "vxu5_TEyJLGq",
        "colab": {
          "base_uri": "https://localhost:8080/"
        },
        "outputId": "be638bd2-9558-4b5b-b8f8-89e342c88b6a"
      },
      "execution_count": null,
      "outputs": [
        {
          "output_type": "stream",
          "name": "stdout",
          "text": [
            "Accuracy: 0.7760416666666666\n"
          ]
        }
      ]
    },
    {
      "cell_type": "markdown",
      "source": [
        "Aveage Pooling Accuracy"
      ],
      "metadata": {
        "id": "49ABTB1rAyEP"
      }
    },
    {
      "cell_type": "code",
      "source": [
        "y_pred=ovr_classifier.predict(np.array(featuresCombinedtest))"
      ],
      "metadata": {
        "id": "SMfYmTImJx_F"
      },
      "execution_count": null,
      "outputs": []
    },
    {
      "cell_type": "markdown",
      "source": [
        "Output Labels"
      ],
      "metadata": {
        "id": "8e3CRO0FCkh3"
      }
    },
    {
      "cell_type": "markdown",
      "source": [
        "Predicted"
      ],
      "metadata": {
        "id": "x5GBtiiYCmEM"
      }
    },
    {
      "cell_type": "code",
      "source": [
        "y_pred"
      ],
      "metadata": {
        "colab": {
          "base_uri": "https://localhost:8080/"
        },
        "id": "M7UDKtL_CJg9",
        "outputId": "29f17f39-558a-4a94-dea9-1751183d6f3c"
      },
      "execution_count": null,
      "outputs": [
        {
          "output_type": "execute_result",
          "data": {
            "text/plain": [
              "array([5, 6, 2, 5, 6, 7, 3, 6, 4, 2, 0, 4, 5, 7, 4, 5, 6, 0, 7, 7, 6, 5,\n",
              "       5, 6, 6, 0, 0, 3, 7, 0, 7, 2, 6, 3, 5, 7, 0, 7, 5, 2, 2, 2, 6, 3,\n",
              "       4, 3, 6, 0, 7, 7, 1, 6, 3, 0, 6, 0, 5, 2, 3, 2, 2, 3, 3, 5, 7, 3,\n",
              "       4, 2, 5, 6, 3, 3, 1, 0, 2, 1, 2, 0, 2, 6, 2, 2, 1, 4, 5, 2, 5, 0,\n",
              "       0, 4, 0, 7, 6, 2, 4, 6, 0, 7, 1, 1, 5, 4, 4, 3, 2, 6, 6, 6, 3, 1,\n",
              "       2, 5, 2, 1, 6, 7, 7, 6, 4, 7, 2, 7, 2, 3, 6, 6, 6, 3, 7, 6, 5, 7,\n",
              "       4, 1, 7, 7, 5, 2, 1, 7, 0, 1, 7, 4, 5, 7, 1, 7, 4, 4, 2, 2, 7, 7,\n",
              "       1, 0, 4, 6, 1, 6, 2, 0, 1, 0, 5, 2, 4, 5, 7, 1, 2, 1, 1, 5, 1, 5,\n",
              "       4, 7, 1, 0, 0, 2, 2, 0, 7, 6, 0, 0, 5, 7, 3, 4], dtype=int32)"
            ]
          },
          "metadata": {},
          "execution_count": 46
        }
      ]
    },
    {
      "cell_type": "markdown",
      "source": [
        "Target"
      ],
      "metadata": {
        "id": "KDjlERBsCrrU"
      }
    },
    {
      "cell_type": "code",
      "source": [
        "Ytest"
      ],
      "metadata": {
        "colab": {
          "base_uri": "https://localhost:8080/"
        },
        "id": "jrWMf0E2CbRV",
        "outputId": "c38bbda0-b2df-4986-b239-b9991cfa0c74"
      },
      "execution_count": null,
      "outputs": [
        {
          "output_type": "execute_result",
          "data": {
            "text/plain": [
              "<tf.Tensor: shape=(192,), dtype=int32, numpy=\n",
              "array([6, 6, 2, 4, 6, 7, 3, 4, 4, 5, 0, 4, 3, 7, 4, 5, 6, 0, 7, 7, 1, 5,\n",
              "       3, 6, 6, 0, 3, 3, 4, 0, 3, 2, 1, 3, 5, 0, 0, 7, 5, 4, 2, 2, 6, 3,\n",
              "       4, 3, 2, 0, 7, 7, 3, 6, 3, 0, 6, 0, 5, 0, 4, 2, 0, 3, 3, 6, 7, 3,\n",
              "       4, 2, 5, 6, 3, 3, 1, 6, 2, 1, 0, 0, 2, 1, 2, 2, 1, 4, 5, 2, 5, 0,\n",
              "       0, 4, 0, 3, 6, 2, 4, 4, 0, 3, 1, 1, 5, 4, 4, 3, 2, 6, 6, 2, 3, 1,\n",
              "       2, 5, 2, 1, 6, 7, 3, 4, 4, 1, 1, 7, 2, 3, 7, 6, 6, 3, 7, 6, 6, 7,\n",
              "       4, 3, 7, 7, 5, 2, 1, 7, 2, 1, 0, 4, 5, 3, 1, 7, 4, 4, 2, 2, 7, 7,\n",
              "       3, 0, 4, 6, 1, 6, 2, 0, 3, 0, 5, 2, 4, 5, 7, 3, 0, 1, 1, 6, 1, 5,\n",
              "       4, 0, 1, 0, 0, 0, 2, 0, 7, 6, 0, 0, 4, 3, 3, 4], dtype=int32)>"
            ]
          },
          "metadata": {},
          "execution_count": 44
        }
      ]
    },
    {
      "cell_type": "markdown",
      "source": [
        "Accuracy when only high level features were considered"
      ],
      "metadata": {
        "id": "Q9CsugWbOOK8"
      }
    },
    {
      "cell_type": "code",
      "source": [
        "from sklearn.metrics import accuracy_score\n",
        "from sklearn.metrics import f1_score, recall_score\n",
        "accuracy = accuracy_score(Ytest, y_pred)\n",
        "print(\"Accuracy:\", accuracy)"
      ],
      "metadata": {
        "colab": {
          "base_uri": "https://localhost:8080/"
        },
        "id": "KhR8HomEJ5PE",
        "outputId": "d8a86e28-66f8-49ef-f7af-d60333f4a14e"
      },
      "execution_count": null,
      "outputs": [
        {
          "output_type": "stream",
          "name": "stdout",
          "text": [
            "Accuracy: 0.9270833333333334\n"
          ]
        }
      ]
    },
    {
      "cell_type": "markdown",
      "source": [
        "Prediction"
      ],
      "metadata": {
        "id": "4HOq7D9UKq1h"
      }
    }
  ],
  "metadata": {
    "accelerator": "GPU",
    "colab": {
      "provenance": [],
      "mount_file_id": "1TVT05TD61jnld6LSY_QCPmUEd83FSkuv",
      "authorship_tag": "ABX9TyMUgY9cl1gARxlRtYFQv862",
      "include_colab_link": true
    },
    "gpuClass": "standard",
    "kernelspec": {
      "display_name": "Python 3",
      "name": "python3"
    },
    "language_info": {
      "name": "python"
    }
  },
  "nbformat": 4,
  "nbformat_minor": 0
}